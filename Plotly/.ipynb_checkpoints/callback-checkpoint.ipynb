{
 "cells": [
  {
   "cell_type": "markdown",
   "metadata": {},
   "source": [
    "# CallBack"
   ]
  },
  {
   "cell_type": "markdown",
   "metadata": {},
   "source": [
    "---"
   ]
  },
  {
   "cell_type": "markdown",
   "metadata": {},
   "source": [
    "Calbacks, são funções responsáveis para gerar interatividade na aplicação. Essas funções recebem inputs e de acordo com esse ou esses inputs, ele muda os gráficos associados. Eles são associados a ids para garantir que uma determinada ação gere uma mudança no gráfico com o id informado."
   ]
  },
  {
   "cell_type": "markdown",
   "metadata": {},
   "source": [
    "## Callback exemplo - 1"
   ]
  },
  {
   "cell_type": "code",
   "execution_count": 14,
   "metadata": {},
   "outputs": [],
   "source": [
    "import pandas as pd\n",
    "import plotly.express as px\n",
    "\n",
    "import dash\n",
    "import dash_core_components as dcc\n",
    "import dash_html_components as html\n",
    "from dash.dependencies import Input, Output, State\n",
    "import pandas_datareader.data as web\n",
    "import datetime\n"
   ]
  },
  {
   "cell_type": "code",
   "execution_count": 15,
   "metadata": {},
   "outputs": [],
   "source": [
    "# https://stooq.com/\n",
    "start = datetime.datetime(2019, 1, 1)\n",
    "end = datetime.datetime(2021, 2, 15)\n",
    "\n",
    "df = web.DataReader(['SVAC','JNJ','PFE','MRNA','BNTX'],\n",
    "                    'stooq', start=start, end=end)\n",
    "\n",
    "df = df.stack().reset_index()\n",
    "\n",
    "cores = [\"black\", \"red\", \"blue\", \"orange\"]\n"
   ]
  },
  {
   "cell_type": "code",
   "execution_count": 16,
   "metadata": {},
   "outputs": [
    {
     "data": {
      "text/html": [
       "<div>\n",
       "<style scoped>\n",
       "    .dataframe tbody tr th:only-of-type {\n",
       "        vertical-align: middle;\n",
       "    }\n",
       "\n",
       "    .dataframe tbody tr th {\n",
       "        vertical-align: top;\n",
       "    }\n",
       "\n",
       "    .dataframe thead th {\n",
       "        text-align: right;\n",
       "    }\n",
       "</style>\n",
       "<table border=\"1\" class=\"dataframe\">\n",
       "  <thead>\n",
       "    <tr style=\"text-align: right;\">\n",
       "      <th>Attributes</th>\n",
       "      <th>Date</th>\n",
       "      <th>Symbols</th>\n",
       "      <th>Close</th>\n",
       "      <th>High</th>\n",
       "      <th>Low</th>\n",
       "      <th>Open</th>\n",
       "      <th>Volume</th>\n",
       "    </tr>\n",
       "  </thead>\n",
       "  <tbody>\n",
       "    <tr>\n",
       "      <th>0</th>\n",
       "      <td>2019-01-02</td>\n",
       "      <td>JNJ</td>\n",
       "      <td>120.960</td>\n",
       "      <td>121.560</td>\n",
       "      <td>119.570</td>\n",
       "      <td>121.330</td>\n",
       "      <td>8060124.0</td>\n",
       "    </tr>\n",
       "    <tr>\n",
       "      <th>1</th>\n",
       "      <td>2019-01-02</td>\n",
       "      <td>PFE</td>\n",
       "      <td>39.634</td>\n",
       "      <td>39.863</td>\n",
       "      <td>39.070</td>\n",
       "      <td>39.515</td>\n",
       "      <td>27364131.0</td>\n",
       "    </tr>\n",
       "    <tr>\n",
       "      <th>2</th>\n",
       "      <td>2019-01-02</td>\n",
       "      <td>MRNA</td>\n",
       "      <td>15.330</td>\n",
       "      <td>15.450</td>\n",
       "      <td>14.510</td>\n",
       "      <td>14.930</td>\n",
       "      <td>2318094.0</td>\n",
       "    </tr>\n",
       "    <tr>\n",
       "      <th>3</th>\n",
       "      <td>2019-01-03</td>\n",
       "      <td>JNJ</td>\n",
       "      <td>119.030</td>\n",
       "      <td>121.460</td>\n",
       "      <td>118.700</td>\n",
       "      <td>121.330</td>\n",
       "      <td>9140571.0</td>\n",
       "    </tr>\n",
       "    <tr>\n",
       "      <th>4</th>\n",
       "      <td>2019-01-03</td>\n",
       "      <td>PFE</td>\n",
       "      <td>38.524</td>\n",
       "      <td>39.716</td>\n",
       "      <td>38.442</td>\n",
       "      <td>39.624</td>\n",
       "      <td>29510593.0</td>\n",
       "    </tr>\n",
       "  </tbody>\n",
       "</table>\n",
       "</div>"
      ],
      "text/plain": [
       "Attributes       Date Symbols    Close     High      Low     Open      Volume\n",
       "0          2019-01-02     JNJ  120.960  121.560  119.570  121.330   8060124.0\n",
       "1          2019-01-02     PFE   39.634   39.863   39.070   39.515  27364131.0\n",
       "2          2019-01-02    MRNA   15.330   15.450   14.510   14.930   2318094.0\n",
       "3          2019-01-03     JNJ  119.030  121.460  118.700  121.330   9140571.0\n",
       "4          2019-01-03     PFE   38.524   39.716   38.442   39.624  29510593.0"
      ]
     },
     "execution_count": 16,
     "metadata": {},
     "output_type": "execute_result"
    }
   ],
   "source": [
    "df.head()"
   ]
  },
  {
   "cell_type": "code",
   "execution_count": 17,
   "metadata": {},
   "outputs": [
    {
     "data": {
      "text/plain": [
       "array(['JNJ', 'PFE', 'MRNA', 'BNTX', 'SVAC'], dtype=object)"
      ]
     },
     "execution_count": 17,
     "metadata": {},
     "output_type": "execute_result"
    }
   ],
   "source": [
    "df.Symbols.unique()"
   ]
  },
  {
   "cell_type": "code",
   "execution_count": 18,
   "metadata": {},
   "outputs": [],
   "source": [
    "app1 = dash.Dash(__name__)\n",
    "\n",
    "app1.layout = html.Div(\n",
    "\n",
    "    children = [\n",
    "\n",
    "        html.H1(id = 'output-titulo', children='Valor de Ação - Covid-19',  style={} ),\n",
    "\n",
    "        # dash component 1\n",
    "        dcc.Dropdown( id = 'meu-dropdown', multi = True,\n",
    "                    options = [{ 'label': x , 'value': x   } for x in sorted(df.Symbols.unique())  ],\n",
    "                    value =['SVAC','JNJ','PFE','MRNA','BNTX']\n",
    "                    ,style={'text-align': 'center'}  \n",
    "                    ),\n",
    "\n",
    "        html.Br(),\n",
    "\n",
    "        # # dash component 2\n",
    "        # html.Button( id = 'botao', n_clicks = 0, children = 'Filtrar_acoes',  style={'text-align': 'center'} ),\n",
    "\n",
    "        # dash component 3\n",
    "        dcc.Graph(id = 'grafico-output', figure ={}),\n",
    "        \n",
    "        # dash component 4\n",
    "        # html.Div(id = 'sentence-output', children = ['Uma String qualquer'], style={}),\n",
    "        \n",
    "        dcc.RadioItems(id = 'cores-id', value = 'black', options = [{ 'label': c, 'value': c   } for c in cores]),\n",
    "        \n",
    "        \n",
    "        ]\n",
    "\n",
    ")\n"
   ]
  },
  {
   "cell_type": "code",
   "execution_count": 24,
   "metadata": {},
   "outputs": [],
   "source": [
    "@app1.callback(\n",
    "    [Output('grafico-output', 'figure'), Output('output-titulo', 'style')],\n",
    "    [Input(component_id='cores-id', component_property='value'),\n",
    "    Input(component_id='meu-dropdown', component_property='value')],\n",
    "    prevent_initial_call=False # True se : Não ativa o callback quando a pagina é atualizada\n",
    ")\n",
    "\n",
    "def muda_grafico(cor_escolhida, acao_escolhida):\n",
    "\n",
    "    if len(acao_escolhida) == 0:\n",
    "        return dash.no_update, {\"color\": cor_escolhida} # faz update em somente um componente quando a página é atualizada - nesse caso a cor e nao o grafico\n",
    "    else:\n",
    "        df_copy = df[df[\"Symbols\"].isin(acao_escolhida)]\n",
    "        fig = px.line(df_copy, x='Date', y='Close', color = 'Symbols')\n",
    "\n",
    "\n",
    "    return fig, {\"color\": cor_escolhida, 'text-align': 'center' }\n",
    "\n",
    "\n"
   ]
  },
  {
   "cell_type": "code",
   "execution_count": 25,
   "metadata": {},
   "outputs": [
    {
     "name": "stdout",
     "output_type": "stream",
     "text": [
      "Dash is running on http://127.0.0.1:2/\n",
      "\n",
      "Dash is running on http://127.0.0.1:2/\n",
      "\n",
      " * Serving Flask app \"__main__\" (lazy loading)\n",
      " * Environment: production\n",
      "   WARNING: This is a development server. Do not use it in a production deployment.\n",
      "   Use a production WSGI server instead.\n",
      " * Debug mode: on\n"
     ]
    }
   ],
   "source": [
    "\n",
    "if __name__ == \"__main__\":\n",
    "    app1.run_server(debug=True, port=2, use_reloader=False)"
   ]
  },
  {
   "cell_type": "markdown",
   "metadata": {},
   "source": [
    "---"
   ]
  },
  {
   "cell_type": "markdown",
   "metadata": {},
   "source": [
    "## Callback exemplo - 2"
   ]
  },
  {
   "cell_type": "code",
   "execution_count": 27,
   "metadata": {},
   "outputs": [
    {
     "data": {
      "text/html": [
       "<div>\n",
       "<style scoped>\n",
       "    .dataframe tbody tr th:only-of-type {\n",
       "        vertical-align: middle;\n",
       "    }\n",
       "\n",
       "    .dataframe tbody tr th {\n",
       "        vertical-align: top;\n",
       "    }\n",
       "\n",
       "    .dataframe thead th {\n",
       "        text-align: right;\n",
       "    }\n",
       "</style>\n",
       "<table border=\"1\" class=\"dataframe\">\n",
       "  <thead>\n",
       "    <tr style=\"text-align: right;\">\n",
       "      <th>Attributes</th>\n",
       "      <th>Date</th>\n",
       "      <th>Symbols</th>\n",
       "      <th>Close</th>\n",
       "      <th>High</th>\n",
       "      <th>Low</th>\n",
       "      <th>Open</th>\n",
       "      <th>Volume</th>\n",
       "    </tr>\n",
       "  </thead>\n",
       "  <tbody>\n",
       "    <tr>\n",
       "      <th>0</th>\n",
       "      <td>2019-01-02</td>\n",
       "      <td>JNJ</td>\n",
       "      <td>120.960</td>\n",
       "      <td>121.560</td>\n",
       "      <td>119.57</td>\n",
       "      <td>121.330</td>\n",
       "      <td>8060124.0</td>\n",
       "    </tr>\n",
       "    <tr>\n",
       "      <th>1</th>\n",
       "      <td>2019-01-02</td>\n",
       "      <td>PFE</td>\n",
       "      <td>39.634</td>\n",
       "      <td>39.863</td>\n",
       "      <td>39.07</td>\n",
       "      <td>39.515</td>\n",
       "      <td>27364131.0</td>\n",
       "    </tr>\n",
       "    <tr>\n",
       "      <th>2</th>\n",
       "      <td>2019-01-02</td>\n",
       "      <td>MRNA</td>\n",
       "      <td>15.330</td>\n",
       "      <td>15.450</td>\n",
       "      <td>14.51</td>\n",
       "      <td>14.930</td>\n",
       "      <td>2318094.0</td>\n",
       "    </tr>\n",
       "  </tbody>\n",
       "</table>\n",
       "</div>"
      ],
      "text/plain": [
       "Attributes       Date Symbols    Close     High     Low     Open      Volume\n",
       "0          2019-01-02     JNJ  120.960  121.560  119.57  121.330   8060124.0\n",
       "1          2019-01-02     PFE   39.634   39.863   39.07   39.515  27364131.0\n",
       "2          2019-01-02    MRNA   15.330   15.450   14.51   14.930   2318094.0"
      ]
     },
     "execution_count": 27,
     "metadata": {},
     "output_type": "execute_result"
    }
   ],
   "source": [
    "import pandas as pd\n",
    "import plotly.express as px\n",
    "\n",
    "import dash\n",
    "import dash_core_components as dcc\n",
    "import dash_html_components as html\n",
    "from dash.dependencies import Input, Output, State\n",
    "import pandas_datareader.data as web\n",
    "import datetime\n",
    "\n",
    "\n",
    "# https://stooq.com/\n",
    "start = datetime.datetime(2019, 1, 1)\n",
    "end = datetime.datetime(2021, 1, 25)\n",
    "\n",
    "df = web.DataReader(['SVAC','JNJ','PFE','MRNA','BNTX'],\n",
    "                    'stooq', start=start, end=end)\n",
    "\n",
    "df = df.stack().reset_index()\n",
    "#%%\n",
    "cores = [\"black\", \"red\", \"blue\", \"orange\"]\n",
    "\n",
    "df.head(3)"
   ]
  },
  {
   "cell_type": "code",
   "execution_count": 28,
   "metadata": {},
   "outputs": [],
   "source": [
    "app2 = dash.Dash(__name__)\n",
    "\n",
    "app2.layout = html.Div(\n",
    "\n",
    "    children = [\n",
    "\n",
    "        # html.H1(id = 'output-titulo', children='Valor de Ação - Covid-19',  style={} ),\n",
    "        html.H1( children='Valor de Ação - Vacina',  style={'text-align': 'center'}),\n",
    "\n",
    "        # dash component 1\n",
    "        dcc.Dropdown( id = 'meu-dropdown', multi = True,\n",
    "                    options = [{ 'label': x , 'value': x   } for x in sorted(df.Symbols.unique())  ],\n",
    "                    value = [  'AMZN','GOOGL','FB','PFE','MRNA','BNTX']\n",
    "                    ,style={'text-align': 'center'}  \n",
    "                    ),\n",
    "\n",
    "        html.Br(),\n",
    "\n",
    "        # # dash component 2\n",
    "        html.Button( id = 'botao', n_clicks = 0, children = 'Filtrar_acoes' ),\n",
    "\n",
    "        # dash component 3\n",
    "        dcc.Graph(id = 'grafico-output', figure ={}),\n",
    "        \n",
    "        # dash component 4\n",
    "        # html.Div(id = 'sentence-output', children = ['Uma String qualquer'], style={}),\n",
    "        \n",
    "        dcc.RadioItems(id = 'cores-id', value = 'black', options = [{ 'label': c, 'value': c   } for c in cores]),\n",
    "        \n",
    "              \n",
    "        ]\n",
    "\n",
    ")\n",
    "\n",
    "\n",
    "\n",
    "\n"
   ]
  },
  {
   "cell_type": "code",
   "execution_count": 29,
   "metadata": {},
   "outputs": [],
   "source": [
    "# Input simpes, multiplos inputs, State, Evitar callback de ser ativado, PreventUpdate\n",
    "@app2.callback(\n",
    "    Output( component_id = 'grafico-output', component_property= 'figure'),\n",
    "    # [Input(component_id = 'meu-dropdown', component_property = 'value')],   #\n",
    "    [Input(component_id = 'botao', component_property = 'n_clicks')],     #\n",
    "    [State(component_id = 'meu-dropdown', component_property = 'value')], #\n",
    "    prevent_initial_call = False # True se : Não ativa o callback quando a pagina é atualizada\n",
    " \n",
    ")\n",
    "\n",
    "def muda_grafico(n, acao_escolhida):\n",
    "\n",
    "    if len(acao_escolhida) > 0:\n",
    "\n",
    "        print(f\"Ação escolhida pelo usuário: {acao_escolhida}\")\n",
    "        print(type(acao_escolhida))\n",
    "        \n",
    "        df_copy = df[df[\"Symbols\"].isin(acao_escolhida)]\n",
    "        fig = px.line(df_copy, x='Date', y='Close', color = 'Symbols')\n",
    "\n",
    "        # return fig\n",
    "\n",
    "    elif len(acao_escolhida) == 0:\n",
    "        raise dash.exceptions.PreventUpdate # Faz com que o component_property do Output não realize update\n",
    "\n",
    "    return fig "
   ]
  },
  {
   "cell_type": "code",
   "execution_count": null,
   "metadata": {},
   "outputs": [],
   "source": [
    "\n",
    "if __name__ == \"__main__\":\n",
    "    app2.run_server(debug=True, port=2, use_reloader=False)"
   ]
  },
  {
   "cell_type": "code",
   "execution_count": null,
   "metadata": {},
   "outputs": [],
   "source": []
  },
  {
   "cell_type": "code",
   "execution_count": null,
   "metadata": {},
   "outputs": [],
   "source": []
  },
  {
   "cell_type": "code",
   "execution_count": null,
   "metadata": {},
   "outputs": [],
   "source": []
  },
  {
   "cell_type": "code",
   "execution_count": null,
   "metadata": {},
   "outputs": [],
   "source": []
  }
 ],
 "metadata": {
  "kernelspec": {
   "display_name": "Python 3",
   "language": "python",
   "name": "python3"
  },
  "language_info": {
   "codemirror_mode": {
    "name": "ipython",
    "version": 3
   },
   "file_extension": ".py",
   "mimetype": "text/x-python",
   "name": "python",
   "nbconvert_exporter": "python",
   "pygments_lexer": "ipython3",
   "version": "3.8.3"
  }
 },
 "nbformat": 4,
 "nbformat_minor": 4
}
